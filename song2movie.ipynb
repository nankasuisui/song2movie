{
  "nbformat": 4,
  "nbformat_minor": 0,
  "metadata": {
    "colab": {
      "name": "song2movie.ipynb",
      "provenance": [],
      "collapsed_sections": [],
      "toc_visible": true,
      "authorship_tag": "ABX9TyM4p9UDQzjRrF2t3N014kHk"
    },
    "kernelspec": {
      "name": "python3",
      "display_name": "Python 3"
    }
  },
  "cells": [
    {
      "cell_type": "markdown",
      "metadata": {
        "id": "IhFKM_gHE4wq"
      },
      "source": [
        "# 1. 必要なファイルのアップロード\n",
        "  必要なもの\n",
        "  - 音楽ファイル  \n",
        "    必須。mp3, ogg, wav などなど  \n",
        "    大抵のコーデックには対応しているはずですが、もしエラーが出るようなら何かしらに変換してもう一度試してみてください。\n",
        "    \n",
        "  - 画像ファイル  \n",
        "    オプション。  \n",
        "    1920x1080推奨。それ以外のサイズは適当にリサイズされますが、現在不具合発生中。"
      ]
    },
    {
      "cell_type": "markdown",
      "metadata": {
        "id": "6oUEp0vfNh6z"
      },
      "source": [
        "# 2. 設定の記入\r\n",
        "\r\n",
        "音楽・画像ファイルのパスは、\r\n",
        "1. 左のタブからフォルダーアイコンを選択→\r\n",
        "  ![folder.png](data:image/png;base64,iVBORw0KGgoAAAANSUhEUgAAAQoAAABsCAYAAACSEfw6AAAAAXNSR0IArs4c6QAAAARnQU1BAACxjwv8YQUAAAAJcEhZcwAADsMAAA7DAcdvqGQAAAI4SURBVHhe7dtBalNBHMDhSRsFFRGLIFTUhTvBegEP4QVcuulO1y6r4MaVN3FhuxHUIxTciAtFioWigjZQMalv0sE0DfLPi9Zp4ftgeDMvSenqx5C8SQAHDQaD5TzKEmBcE4gXu0Uzf15uA4w0ceiXTuRQ9PK9ueErACMb5Zp9LFeAkWYXcbcZW83YbMadchsAAAAAAAAAAAAAAAAAAAAAAAAAAAAAAAAAAAAAAAAAAAAAAAAAAAAAAAAAAAAAAAAAAAAAAAAAANjT2W2U+ZHWaZQp8J/NlSvAH03sKDbvnymzlC4+2S6z+uwooB47CiAkFEBIKICQUAAhoQBCQgGEhAIICQUQEgogJBRASCiAkFAAoVaHwvqf36f+lw9lNXJicSl1Tp0rq8PhUBjUM3UociS2Vq6X1bjupaW0sLx6qLEQCqhn6lB8X3uYttceldWk+YWrzbhSVuO6izfT2duPy2o2QgH1tP6Oort4I528dmtizJ+/nFJuzoEx6H1NvVdP0876s/IXgGMn7yj2+3Tv9O+x37fVleG9nbcvy53p5Pfnz+XP/43y7wIV+NUDCAkFEBIKICQUQEgogJBQAKHWofi5sZ5+vHs99cjvB463f/II9zQuPHgzfHpzVp7MhHraHwprRlt7j3fPHolMKKCeVqGoSSigHl9mAiGhAEJCAYSEAggJBRASCiAkFEBIKICQUAAhoQBCQgGEhAIITRwKO6ocCoN67CiAkFAAIaEAQkIBhIQCCKT0Cxl1YMRSrSojAAAAAElFTkSuQmCC)\r\n",
        "\r\n",
        "2. ファイルを適当な領域にドラッグアンドドロップでアップロード\r\n",
        "\r\n",
        "![uploadd.png](data:image/png;base64,iVBORw0KGgoAAAANSUhEUgAAAU0AAAD1CAYAAADUHqdoAAAAAXNSR0IArs4c6QAAAARnQU1BAACxjwv8YQUAAAAJcEhZcwAADsMAAA7DAcdvqGQAABOHSURBVHhe7d15jFTlnsbxtwWXBlGhOy4gqMiquRhABaWdf4xcMQIDioI7EBNzWR1Zok4Q4zisjoZFMQZQI2IkElkShyXRXMCAC6DIDduIgBiVTdFuFEWG5+3zQlFU1TlvdVf3qa7vJzmpOkstXdBP/96lzik6foIBAERyVnALAIiA0AQAD4QmAHggNAHAA6EJAB4ITQDwQGgCgAdCEwA8EJoA4IHQBAAPhCYAeCA0AcADoQkAHghNAPBAaALIS7t37zaTJ082FRUVwZb0dIyO1WOqitAEkJfmz59vtmzZEhqcLjB1rB5TVYQmgLw0bNgw07x584wVZ2KFqWP1mKoiNAHkpQYNGpixY8emDc7kwNSxekxVEZo5cOjQIdO3b1+zYMGCYEt6R44cMSNHjox0LIDTpQvOXAWm5M01ghREgwcPNhs3bgy2hFP/RZcuXYK1mqEQfPLJJ+39CRMmmOLiYnvfUTiuWbPm5D53fLdu3Uy/fv2CowD4UEhOmjTJ7Nmzx7Ro0cJuy0VgSmhoTp8+3b6RMWPGmP3795utW7cGezIrKSkxZWVlwVrN2rFjhxk4cKCZOnVqjYem/rqtXbvWzJ492zRu3DjYegqhCeRGYnBKLgJTQpvnGnFSWLrAXLRoUaRFwVBbDhw4YG8V3I5rMrds2TLSoiazAi0q18xesmSJDc5UgQkgt4qKioJ7p9+vTqGVpkpcLbVVNWZD1Zya5umqvUxc5TdgwIDIVarrOpCw16TSBKpfch+muKa6WsnVWW2GVpp60XwKTNm5c6fp2rVraGAqwPRBJ1q6dKm97dChg70No+fo3LmzvZ9NSAOomlSDPqkGh6pLaGjqxdQ0zxeq+tSneNVVVwVbolu3bp2ZNm2aGTp06BkDOMl0rJrxOn7cuHHBVgA1KVVgqqrUkqvgDA3NZ555xpa3euHVq1fbF4+yVMfM+2xs27bN7Nu3z3Ts2DHYEo1CcNSoUWbu3LmmVatWwdbTuX5LhaWOXb58uVm1apVp3759cEQ4VcEAqi5dYDq5Cs7Q0EzuC1AXaJSlNqjK1OhZz5490wZfIgWYKlKNtr/66qtm8eLFKR/nBpGuvfZau75582YbllFeI5FC97vvvjNNmzYNrWRFQa5/aABn0syedIHpJAenHlNlJwIuo/Ly8uMnKrdgLd5OBObxPn36HD948GCwJb0Tf3GOjxgx4viJpnywJXt6jiivu3379uNlZWWnvaZ7H++++26wpZKeS885c+ZMewyA0+3atev4xIkTbUaF0TE6Vo+pqkiVZmlpabAWT67ZnGl+ZLK9e/eaw4cPmzZt2gRbcm/hwoV20ChskMmNxmsQTvNNo1SlQKHR70e6CjOZqzjdxPeqCA1NlbS1OecyjEavXbN53rx5kQJTITtjxgzTo0ePGhvtVlN71qxZdipTphDUcQpW/eOm+kYRgNoVOk9zyJAhNmQ0GOQmt0fRtm1bm+y54CoxfaWyWbNmGQdvkrlvCw0fPrza5kUq6NSXmq7K1X6FpY5Jfk19tpqn2ahRI/PRRx/ZCjjVcQDiITQ0FQT6VpACsLa/Rqmq0gVxNsGiQRWfJnxUmULThWK6yfJuvwahevXqRXUJxFxoaAIATgnt0wQAnEJoAoAHQhMAPBCaAOCB0AQAD4QmAHggNAHAA6EJAB4ITQDwQGgCgAdCEwA8EJoA4IHQBAAPhCYAeCA0AcADoQkAHghNAPBAaAKAB0ITADwUxDWCdGG4OXPm2AvDZdKtWzd7lUsASKcgKk1dJTIsMEXXd9exAJBOQVSagwYNsreqNtNxx0htVZzr16+3l/LdvXt3sOV0ca2E8/V9A9mgTzOF2qo458+fnzZ4JK6VcL6+byAbVJqBxErTqekKKdV7yEZpaanp37+/6dSpU7Alt/L1fQPZoNLMIF8rJPXfqrkcR82bNzdt27a1S0lJSbC1UpzfN+BQaQYyVUuZHledorzPKKrreaLyqTTHjx9vWrRoYe8rJMeMGWPvJ6qp9w1kg0ozoF/U5AXVq3fv3mbFihXBWmVz/LbbbgvWgPxAaKJGqCmu0FSVqXmzjrYVFxcHa0D8FXxorl69us6N7MaxUnYDaqosN2zYYO9LgwYNTPfu3YM1IP4KOjQVmAoXDfgkNhvziab6LFq0yEyePNnMmDHD/hwVFRVm0qRJdomDjh07mnbt2gVrlc1yffaOqs3kQSEgrgo2NF1gOpprmPiLnA8UkBpYUWiWl5ebffv22Z9D2w4cOBAcVfsGDBgQ3Ku0fPlyO0qucHeSjwHiqiBDMzkwHW3Ll+DUyLMCUlN4FJLPPvusGTZsmA0fhVGUr43WBFWRqiwdBbwCXe9P1bFbVq5cGRwBxFvk0FQzUM0/TS9xi9YzfRMkrrZu3WpvE6fKuPtuX9ypS0EUlG4Kj7YpSBMruNqmLwg4el9a9MdJi8JeU47cMnTo0OBIIL4ihaaCUdWAvmOs/ilVD7rVurYnjobmAw1K6Je0rKws2GLsfW3Ll+9I6zPXBPHEKk4BlRhCcWjyunAXVZn6v5NO4rFAXIWGpioDBaPmwKsyUGWj//i61bqmi6jijFN1E0XiwISTals+UYDqZ3CLq0Brk4JSTXH94dVIuZZU9EcgcVQdiKvQbwS5/j81XxMrM0fVpmu2p9ofB67pnaofM9t9uTB69OhIAziqIlWVadEftMRqUxRA2q5KsyYmj4e9b/f+MoWmQlV/eNVHq/5ZIK5CK033y5DuJApu+549e+xtvlEg1lQohlHIKTTCaOTZhaH+YCUO+ih83nnnHXtfXSg1Iex96/25alOBnmpRYLoJ8ECchVaaal5p0S9nuipBFVmcz5k4ZMgQc+TIkWDNj36Rp0yZEqzFi6YcaeBHXNeCAkjiXPkD+Sy00nSTjtUMT8Vtj0P/WTrqf81m8rQeE+eBIVWbrhmuv31a3GAQgQnkRmilqWaT+qyKiorswE9i/5mba6eJ1arG0lWiAFBXRDo1nJp806dPt8GpfjIFpwJTo50KVTUNdfLYOFebAFAdIp9PU5346ttMnBaieYJqGuo7zgpUNQsJTgB1WeTQTKQATQxHrROcAApBVqGZCsEJoBBE/u55GIXk2LFj7QiuBofy7RtCABBFtVWajipOLUx5AVAXVXtoAkBdVm3NcwAoBIQmAHjIi+b59u3bg3sAkL3WrVsH97JHnyYAeKB5DgAeCE0A8EBoAoAHQhMAPBCaAOCB0AQAD4QmAHggNAHAA6EJAB4ITQDwQGgCgAdCEwA8FOwJO1avXm0+/vjjYO2U5s2b2ytsAkAqBRmauhzH+PHjg7UzdevWzQwePDhYA4BTCjI0t2zZYi/+lq127drZK24CKDz0aSYoKSkJ7mWm0NUCoPAQmgE1yadMmWJvASAdQvOExD5M3RKcANIp+NBMNehDcAJIp6BDs0WLFqasrMyOpifSurZrPwAkKujQVDhOmjTJzJ8/P9hSSevanhymUf3555/ms88+M99//71d/+233+yc0MOHD9t1APmLPs0cOHLkiHnllVfMJ598Ytf3799vJk6cyKWIgTqA0MyBRo0amdmzZ5tevXrZ9csvv9wsXrzYdO7c2a4DyF9Mbj+hQYMGp/VfqlleUVERrKWmye2a5A6gsBRkpamQTKSAdBPWtYQFpiQ/B4DCUNAn7NiwYUOkgEyksNR0pE6dOgVbABSSgg1NAMgGA0EA4IHQBAAPXqGp/r9FixYFa6fTdt/+QQDIN5FDU4GoaToKx+TTomld27Wf4ARQl0UKTReYmr84aNCgM+Ynal3btZ/gBFCXhYZmcmDqRBapaDvBCaCuyxiaUQPTITgB1HWhlWa20ziZ/gmgLsoYmvr2y9ixY+1lbefMmWO/RZOJ9us4Ha/H8VXD2nfo0CHTt29fs27dumBL9dDzjRw50p7RCSgkoZVm1ODMt8DU+1UXQvKSfG5NVN2OHTtMnz597C2Q70JDU5KDM9WUo3wKTPW5up8jeVmxYoU9rRsApBIpNMUFZ+/evVNOOdL2XAfmjz/+GNyrmrABqjVr1tgBrXSLKtIwX3/9tXn44YdNmzZtzK233mqWLFli/vrrL7tPZ3KfNWuW6dKli2nfvr15/PHHzYEDB+w+VWOPPPKIef311+2JQbR/woQJZteuXWbEiBH2+Xr06GHPDC9qfus9vfXWW3a79uu0ddqeivqaly9ffvJYPecPP/wQ7E1P78+9/v33328+//zzYE+lvXv32v16v/q55s6da89gv2DBAtO9e3fzxRdf2FutS6bPAIizyKEpCkSFYyranusK87333ov0C55rripN55dffjHPP/+8DabNmzebadOm2TO566xK8uabb5pt27aZZcuW2TBRha4AUcjIN998Y4qKimy46eTFq1atMkOHDjUPPvig2bRpk3nooYfM9OnTT14+46effjJ79uyxXQs69vfffzcvv/zyyedLpP3z5s0zr732mvnyyy/NddddZ0M5U9/k0aNHzYsvvmguvfRSG9ZTp041W7duDfZW/rzjxo0zN910k31/77//vlm5cqX949OvXz/7c+h1dKt1CfsMgLjyCs04eOmll2IRnJnoF1/Bdc0115izzz7btG3b1l5z6OKLL7aVXv/+/W2oXnTRReacc86xFeXGjRvNr7/+ah9/5ZVXmjvvvNM0bNjQtGrVytxyyy3m5ptvtmd+P/fcc80NN9xgA9NV3hdccIG5++677fNdcsklNlRVCeoyG4kUjAsXLrSVrM4mf95555k77rjDHDx48OT1jFJRd4ZC8r777rOvddlll5l777032GtMcXGxeeGFF+x7qF+/vt2vkEyuRp0onwEQV3kXmgrMuAenLnehJvmjjz5qxo8fb9auXWtat25tqylVkAqWN954wzZNW7ZsaQYMGGCOHTt2cprWWWedZRfR8fXq1bOL7qeiYxP3KXQVbskBpCaxAlCXKNbralEY79y5075+Omo2KxgbN24cbDH2/Tj6eRTiTzzxhG1q63kzVY1RPgMgrvIuNCXuwalAGDhwoFm6dOnJ/r0HHnjA9ksqSBQoapp+8MEHtu+zukfs//jjj7SBpapO1aZe1y1qsquizda+fftsf3bXrl1tk1/P+dhjjwV7z1QTnwGQK3kZmnGn5q76/i688ELbr6n+zKuvvtpenVKBpmpPzdsmTZrY4zNVedlQZajXOf/884MtlRSYqha/+uqrYEtlU9kNUKVTUlJim/aJg0uJ7/nnn3+2lejtt99uuyP0nJl+ppr4DIBcycvQVL+dJlbrNo7cQNCHH35oA0kVsapMNZlVhepWgyIKV13Wd+bMmcEjs6OBII1K63V1X1OmVOGWlpYGR1RSH2nPnj1ts3j9+vU2qNTvOGrUqLSj7aKLzqlf9u2337bN8G+//dY+h6O+UT1eAz/l5eV2cEeDQY6CWj+3wlx9vbn4DICaknehGffAlCuuuMI899xzNmQ0HUuDHgor9XOqEtPUHA3SqDmrPk8Nxmi7AiUbCiAF0z333GNuvPFG26eq7gGFUzJVg8OHDzejR4+2/awaFdeUpcT+ymSqUDUlSINF119/vW2Ka6DH0aDS008/bYNP+z/99FNz11132epUTXFV3PoZNQClY3LxGQA1Ja+uEaRmrr4SWNXA1HShKHMtM4nLJXxV4WkA5qmnnqpSv6TmhypoNd8yUbNmzWyfbFWeG6hL8qrSVPUS5woznykUNSCUOECkpaqDREBdk1ehqXmO1aE6JuHneiI/gHjiuuee5/xUWHLdc6Bwcd1zAPDAPE0A8EBoAoAHQhMAPBCaAOCB0AQAD4QmAHggNAHAA6EJAB4ITQDwYL8R9MN/NAxWjbnkf8qDewCAZFSaAOCB0AQAD4QmAHggNAHAA6EJAB4ITQDwQGgCgAdCEwA8EJoA4IHQBAAPhCYAeCA0AcBD6Ak7jh3cZY4d2h2snXJ20w6mqPjCYA0ACkPG0FRg7v+va4K109Vv1sE0+cf/EpwACkrG0Px12fOmfNl/B2tnqtfkihNLi2DtdPWbXmca/fukYA0A6oZIfZr1m/7NnHN12RlLvcbNjTl+/Izlr4qfTMU/Z5jfNy0JngEA6oZIlWbjf3xgzmn1b8HWcEd3/NMcermHafj3p8z5f3862AoA+Y/RcwDwQGgCgAdCEwA8EJoA4IHQBAAPhCYAeIgUmn9+t8kc/b9VkRcdDwB1UdZfo4yi9D//Zb81BAB1RbQTdpxYfFV+xZLABFC3hIYmAOAUBoIAwAOhCQAeCE0A8EBoAoAHQhMAPBCaAOCB0AQAD4QmAHggNAHAA6EJAB4ITQDwQGgCgAd7wo7gPgAgBJUmAHggNAHAA6EJAB4ITQDwQGgCgAdCEwA8EJoA4IHQBAAPhCYAeCA0AcADoQkAHghNAPBAaAKAB0ITADwQmgDggdAEAA+EJgB4IDQBwAOhCQAeCE0A8EBoAoAHQhMAPBCaAOCB0AQAD4QmAHggNAHAA6EJAB4ITQDwQGgCgAdCEwA8EJoA4IHQBAAPhCYAeCA0AcADoQkAHghNAPBAaAKAB0ITADwQmgDggdAEAA+EJgB4IDQBwAOhCQAeCE0A8EBoAoAHQhMAPBCaAOCB0AQAD4QmAHggNAHAA6EJAB4ITQDwQGgCgAdCEwA8EJoA4IHQBAAPhCYAeCA0AcADoQkAkRnz/y9IJ1TvtFx/AAAAAElFTkSuQmCC)\r\n",
        "3. 注意はOKをクリックして飛ばす。\r\n",
        "![warning.png](data:image/png;base64,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)\r\n",
        "4. アップロードが終わったらファイルを右クリック\r\n",
        "5. 右クリックメニューの「パスをコピー」をクリック\r\n",
        "![pathh.png](data:image/png;base64,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)\r\n",
        "6. ↓の該当部分に貼り付ける。"
      ]
    },
    {
      "cell_type": "code",
      "metadata": {
        "id": "8aezT-m8FmPM"
      },
      "source": [
        "#@title #・以下に設定を記入\n",
        "\n",
        "#@markdown 音楽ファイルのパス。詳細な手順は↑参照。必須\n",
        "song = \"/content/song.wav\" #@param {type:\"string\"}\n",
        "\n",
        "#@markdown 画像ファイルのパス。詳細な手順は↑参照。オプション\n",
        "image = \"/content/uploadd.png\" #@param {type:\"string\"}\n",
        "\n",
        "#@markdown ##### フォントのパス。こだわりがなければデフォルト設定で。\n",
        "#@markdown 好みのフォントを使用する場合は音楽ファイルと同様にアップロードしてパスを入力。\n",
        "fontpath = \"/content/SourceHanSerif-Regular.otf\" #@param {type:\"string\"}\n",
        "\n",
        "#@markdown FPS(標準:30)\n",
        "fps = 30.0 #@param {type:\"number\"}\n",
        "\n",
        "#@markdown 解像度\n",
        "size = \"1080p\" #@param [\"1080p\",\"720p\",\"480p\"]\n",
        "\n",
        "#@markdown 楽曲タイトル 不要ならば空白でOK\n",
        "title = \"\" #@param {type:\"string\"}\n",
        "\n",
        "#@markdown アーティスト名 不要ならば空白でOK\n",
        "artist = \"\" #@param {type:\"string\"}\n",
        "\n",
        "#@markdown 動画開始秒数\n",
        "start = 0 #@param {type:\"number\"}\n",
        "\n",
        "#@markdown 動画長さ(秒)  *0で楽曲ファイルと同じ秒数\n",
        "length =  5#@param {type:\"number\"}\n",
        "\n",
        "#@markdown フェードイン\n",
        "fadein = False #@param {type:\"boolean\"}\n",
        "\n",
        "#@markdown フェードアウト\n",
        "fadeout = False  #@param {type:\"boolean\"}\n",
        "\n",
        "#@markdown フェードタイム(秒)\n",
        "fade_time = 4 #@param {type:\"number\"}\n",
        "\n",
        "#@markdown 背景色\n",
        "bgcolor = \"black\" #@param [\"black\",\"white\"]\n",
        "\n",
        "#@markdown 波形色\n",
        "color = \"white\" #@param [\"white\",\"black\"]\n",
        "\n",
        "#@markdown 文字透過度\n",
        "transparency = 0 #@param {type:\"slider\", min:0, max:100, step:1}\n",
        "\n",
        "#@markdown 波形表示形式\n",
        "sfig = \"line\" #@param [\"line\",\"rect\",\"None\"]"
      ],
      "execution_count": null,
      "outputs": []
    },
    {
      "cell_type": "code",
      "metadata": {
        "colab": {
          "base_uri": "https://localhost:8080/"
        },
        "id": "mrf299j5DaAu",
        "outputId": "f956fe05-ec5c-42e1-cb60-e3def42934e0"
      },
      "source": [
        "!pip install pydub\r\n",
        "!if [ ! -e /content/SourceHanSerif-Regular.otf ]; then wget https://github.com/adobe-fonts/source-han-serif/raw/release/OTF/Japanese/SourceHanSerif-Regular.otf; fi"
      ],
      "execution_count": null,
      "outputs": [
        {
          "output_type": "stream",
          "text": [
            "Requirement already satisfied: pydub in /usr/local/lib/python3.6/dist-packages (0.24.1)\n"
          ],
          "name": "stdout"
        }
      ]
    },
    {
      "cell_type": "code",
      "metadata": {
        "id": "CBUIOnE1DQOQ"
      },
      "source": [
        "import numpy as np\n",
        "import librosa,pydub\n",
        "import cv2 as cv\n",
        "from PIL import ImageFont, ImageDraw, Image\n",
        "from pydub import AudioSegment\n",
        "import subprocess,os\n",
        "import glob\n",
        "import copy\n",
        "from math import ceil\n",
        "from google.colab import files\n",
        "from google.colab import output"
      ],
      "execution_count": null,
      "outputs": []
    },
    {
      "cell_type": "code",
      "metadata": {
        "id": "3piNw5gdH0gb"
      },
      "source": [
        "if not (os.path.isfile(song)):\n",
        "    print(\"invalid input file.\")\n",
        "    exit()\n",
        "  \n",
        "#fn = os.path.splitext(os.path.basename(song))[0]\n",
        "#video = str(fn)+\".mp4\"\n",
        "video = \"out.mp4\""
      ],
      "execution_count": null,
      "outputs": []
    },
    {
      "cell_type": "code",
      "metadata": {
        "id": "2dao0RZIKZBA"
      },
      "source": [
        "#define functions\n",
        "def sigmoid(x,a):\n",
        "    return 1.0 / (1.0 + np.exp(-x*a))\n",
        "\n",
        "def norm(t,start,end,nstart,nend):\n",
        "    return (t - start) * (nend - nstart) / (end - start) + nstart\n",
        "\n",
        "def sig(t,start,end,sigrange,a=1): #start,end = timeのstart,end / sigrange = 正規化範囲(+-sigrangeになる)\n",
        "    nt = norm(t,start,end,-sigrange,sigrange)\n",
        "    return sigmoid(nt,a)\n",
        "\n",
        "def puttext_ja(cv_image, text, point, font_path, font_size, color):\n",
        "    font = ImageFont.truetype(font_path, font_size)\n",
        "\n",
        "    cv_rgb_image = cv.cvtColor(cv_image, cv.COLOR_BGR2RGB)\n",
        "    pil_image = Image.fromarray(cv_rgb_image)\n",
        "\n",
        "    draw = ImageDraw.Draw(pil_image)\n",
        "    draw.text(point, text, fill=color, font=font)\n",
        "\n",
        "    cv_rgb_result_image = np.asarray(pil_image)\n",
        "    cv_bgr_result_image = cv.cvtColor(cv_rgb_result_image, cv.COLOR_RGB2BGR)\n",
        "\n",
        "    return cv_bgr_result_image\n",
        "\n",
        "def resize_trim(img, target_width, target_height):\n",
        "    h,w = img.shape[:2]\n",
        "    scale_w = float(target_width) / w\n",
        "    scale_h = float(target_height) / h\n",
        "    scale = max([scale_w,scale_h])\n",
        "    x = ceil(scale * w)\n",
        "    y = ceil(scale * h)\n",
        "    #img = cv.resize(img,fx=scale,fy=scale,dsize=(0,0))\n",
        "    imgg = cv.resize(img,dsize=(x,y))\n",
        "    return imgg[0:target_height,0:target_width]"
      ],
      "execution_count": null,
      "outputs": []
    },
    {
      "cell_type": "code",
      "metadata": {
        "id": "n1aMdfIJKjRC"
      },
      "source": [
        "#load audio file\n",
        "try:\n",
        "    dubclip = AudioSegment.from_file(song,format=song[-3:])\n",
        "except Exception as e:\n",
        "    print(\"unexpected song format.\",song[-3:])\n",
        "    exit()\n",
        "\n",
        "#check duration >= length\n",
        "if length != 0 and dubclip.duration_seconds < length:\n",
        "    print(\"song is shorter than expected length.\")\n",
        "    exit()\n",
        "\n",
        "if length == 0:\n",
        "    print(\"length not specified. use song duration.\")\n",
        "    length = dubclip.duration_seconds - start\n",
        "    \n",
        "    \n",
        "#clip audio\n",
        "dubclip = dubclip[start*1000:]\n",
        "dubclip = dubclip[:length*1000]\n",
        "\n",
        "#fade audio\n",
        "if fadein:dubclip = dubclip.fade(from_gain=-np.inf, duration=fade_time*1000, start=0)\n",
        "if fadeout:dubclip = dubclip.fade(to_gain=-np.inf, duration=fade_time*1000, end=float('inf'))\n",
        "\n",
        "dubclip.export(\"tmp.wav\",format=\"wav\")\n",
        "\n",
        "#load spectrums\n",
        "y,sr = librosa.load(\"tmp.wav\",sr=None,mono=False)\n",
        "y = librosa.core.to_mono(y) #from stereo to mono for simplicity\n",
        "y = librosa.util.normalize(y)\n",
        "spec = librosa.feature.melspectrogram(y=y,sr=sr,hop_length=int(sr*1/fps),power=2.0,norm=1,n_mels=64)\n",
        "spec = librosa.power_to_db(spec)\n",
        "\n",
        "#normalize spectrums\n",
        "spec = norm(spec,np.min(spec),np.max(spec),0,255).astype(np.uint8)\n",
        "#plt.imshow(spec,origin='lower')"
      ],
      "execution_count": null,
      "outputs": []
    },
    {
      "cell_type": "code",
      "metadata": {
        "id": "UyswwkftK3r3",
        "colab": {
          "base_uri": "https://localhost:8080/"
        },
        "outputId": "922beb09-efab-4bcd-a32c-1797f65de493"
      },
      "source": [
        "#draw\n",
        "drawsize = {\"720p\":(1280,720),\"1080p\":(1920,1080),\"480p\":(640,480)}\n",
        "#fourcc = cv.VideoWriter_fourcc(\"X\",\"2\",\"6\",\"4\")\n",
        "writer = cv.VideoWriter(\"tmp.avi\",0,fps,drawsize[size])\n",
        "\n",
        "bg_bk = lambda: np.zeros((drawsize[\"1080p\"][1],drawsize[\"1080p\"][0],3),dtype=np.uint8)\n",
        "bg_wh = lambda: np.full((drawsize[\"1080p\"][1],drawsize[\"1080p\"][0],3),255,dtype=np.uint8)\n",
        "\n",
        "col_bk = (0,0,0)\n",
        "col_wh = (255,255,255)\n",
        "\n",
        "if bgcolor == \"black\":\n",
        "    bg_ = bg_bk\n",
        "elif color == \"white\":\n",
        "    bg_ = bg_wh\n",
        "\n",
        "if color == \"black\":    \n",
        "    col_ = col_bk\n",
        "elif color == \"white\":\n",
        "    col_ = col_wh\n",
        "\n",
        "if image:\n",
        "    img = cv.imread(image)\n",
        "    if img is None:\n",
        "        print(\"image can't be loaded.\")\n",
        "    else:\n",
        "        img = resize_trim(img,drawsize[\"1080p\"][0],drawsize[\"1080p\"][1])\n",
        "        bg_ = lambda: copy.deepcopy(img)\n",
        "\n",
        "for f in range(int(length*fps)):\n",
        "    output.clear()\n",
        "    print(\"rendering: {} / {}\".format(f,int(length*fps)))\n",
        "    #background\n",
        "    frame = bg_()\n",
        "    \n",
        "    #spectrum\n",
        "    if sfig == \"rect\":\n",
        "        #ver.rectangle\n",
        "        for i,n in enumerate(spec[:,f]):\n",
        "            for h in range(int(norm(n,0,255,0,24))):\n",
        "                cv.rectangle(frame, (80+i*28,800-h*20),(80+i*28+14,800-h*20-14),col_, -1, cv.LINE_AA)\n",
        "                \n",
        "    elif sfig == \"line\":\n",
        "        #ver.line\n",
        "        for i,n in enumerate(spec[:,f]):\n",
        "            cv.line(frame,(80+i*28,800),(80+i*28,800-int(2.7*n)),col_,10,cv.LINE_AA)\n",
        "    \n",
        "    #text\n",
        "    #cv.putText(frame,title,(80,980),cv.FONT_HERSHEY_SIMPLEX,4,col_,4,cv.LINE_AA)\n",
        "    #alter\n",
        "    ## title\n",
        "    frame = puttext_ja(frame,title,(80,840),fontpath,130,col_)\n",
        "    ## artist\n",
        "    frame = puttext_ja(frame,artist,(100,980),fontpath,70,col_)\n",
        "\n",
        "    #fadein\n",
        "    if False:#fadein:\n",
        "        if f < fade_time*fps:\n",
        "            alpha = sig(f,0,fade_time*fps,2,2) if f != 0 else 0\n",
        "            frame = cv.addWeighted(frame,alpha,bg_(),1.0-alpha,0)\n",
        "    \n",
        "    #fadeout\n",
        "    if fadeout:\n",
        "        if f >= length*fps-1 - fade_time*fps:\n",
        "            alpha = sig(f,length*fps-1,length*fps-1 - fade_time*fps,2,2) if f != length*fps-1 else 0\n",
        "            frame = cv.addWeighted(frame,alpha,bg_(),1.0-alpha,0)\n",
        "        \n",
        "    #resize\n",
        "    if size == \"1080p\":\n",
        "        pass\n",
        "    elif size == \"720p\":\n",
        "        frame = cv.resize(frame,(1280,720))\n",
        "\n",
        "    writer.write(frame)\n",
        "    \n",
        "    \n",
        "writer.release()"
      ],
      "execution_count": null,
      "outputs": [
        {
          "output_type": "stream",
          "text": [
            "rendering: 149 / 150\n"
          ],
          "name": "stdout"
        }
      ]
    },
    {
      "cell_type": "code",
      "metadata": {
        "id": "WPVtDkoHK5uk",
        "colab": {
          "base_uri": "https://localhost:8080/"
        },
        "outputId": "6c44bb0d-d32a-49c9-b9ea-7b832708c51d"
      },
      "source": [
        "#save\n",
        "cmd = \"ffmpeg -y -i {} -i {} {} {} -flags global_header {}\".format(\"tmp.avi\",\"tmp.wav\",\"-vcodec h264 -pix_fmt yuv420p -r\",fps,video)\n",
        "#-vcodec copy -acodec copy  \n",
        "#print(cmd)\n",
        "\n",
        "#resp = subprocess.call(cmd, shell=True)\n",
        "!$cmd\n",
        "os.remove(\"tmp.avi\")\n",
        "os.remove(\"tmp.wav\")"
      ],
      "execution_count": null,
      "outputs": [
        {
          "output_type": "stream",
          "text": [
            "ffmpeg version 3.4.8-0ubuntu0.2 Copyright (c) 2000-2020 the FFmpeg developers\n",
            "  built with gcc 7 (Ubuntu 7.5.0-3ubuntu1~18.04)\n",
            "  configuration: --prefix=/usr --extra-version=0ubuntu0.2 --toolchain=hardened --libdir=/usr/lib/x86_64-linux-gnu --incdir=/usr/include/x86_64-linux-gnu --enable-gpl --disable-stripping --enable-avresample --enable-avisynth --enable-gnutls --enable-ladspa --enable-libass --enable-libbluray --enable-libbs2b --enable-libcaca --enable-libcdio --enable-libflite --enable-libfontconfig --enable-libfreetype --enable-libfribidi --enable-libgme --enable-libgsm --enable-libmp3lame --enable-libmysofa --enable-libopenjpeg --enable-libopenmpt --enable-libopus --enable-libpulse --enable-librubberband --enable-librsvg --enable-libshine --enable-libsnappy --enable-libsoxr --enable-libspeex --enable-libssh --enable-libtheora --enable-libtwolame --enable-libvorbis --enable-libvpx --enable-libwavpack --enable-libwebp --enable-libx265 --enable-libxml2 --enable-libxvid --enable-libzmq --enable-libzvbi --enable-omx --enable-openal --enable-opengl --enable-sdl2 --enable-libdc1394 --enable-libdrm --enable-libiec61883 --enable-chromaprint --enable-frei0r --enable-libopencv --enable-libx264 --enable-shared\n",
            "  libavutil      55. 78.100 / 55. 78.100\n",
            "  libavcodec     57.107.100 / 57.107.100\n",
            "  libavformat    57. 83.100 / 57. 83.100\n",
            "  libavdevice    57. 10.100 / 57. 10.100\n",
            "  libavfilter     6.107.100 /  6.107.100\n",
            "  libavresample   3.  7.  0 /  3.  7.  0\n",
            "  libswscale      4.  8.100 /  4.  8.100\n",
            "  libswresample   2.  9.100 /  2.  9.100\n",
            "  libpostproc    54.  7.100 / 54.  7.100\n",
            "Input #0, avi, from 'tmp.avi':\n",
            "  Metadata:\n",
            "    encoder         : Lavf58.35.100\n",
            "  Duration: 00:00:05.00, start: 0.000000, bitrate: 746592 kb/s\n",
            "    Stream #0:0: Video: rawvideo (I420 / 0x30323449), yuv420p, 1920x1080, 751506 kb/s, 30 fps, 30 tbr, 30 tbn, 30 tbc\n",
            "\u001b[0;33mGuessed Channel Layout for Input Stream #1.0 : stereo\n",
            "\u001b[0mInput #1, wav, from 'tmp.wav':\n",
            "  Duration: 00:00:05.00, bitrate: 1411 kb/s\n",
            "    Stream #1:0: Audio: pcm_s16le ([1][0][0][0] / 0x0001), 44100 Hz, stereo, s16, 1411 kb/s\n",
            "Stream mapping:\n",
            "  Stream #0:0 -> #0:0 (rawvideo (native) -> h264 (libx264))\n",
            "  Stream #1:0 -> #0:1 (pcm_s16le (native) -> aac (native))\n",
            "Press [q] to stop, [?] for help\n",
            "\u001b[1;36m[libx264 @ 0x562decdf2d00] \u001b[0musing cpu capabilities: MMX2 SSE2Fast SSSE3 SSE4.2 AVX FMA3 BMI2 AVX2\n",
            "\u001b[1;36m[libx264 @ 0x562decdf2d00] \u001b[0mprofile High, level 4.0\n",
            "\u001b[1;36m[libx264 @ 0x562decdf2d00] \u001b[0m264 - core 152 r2854 e9a5903 - H.264/MPEG-4 AVC codec - Copyleft 2003-2017 - http://www.videolan.org/x264.html - options: cabac=1 ref=3 deblock=1:0:0 analyse=0x3:0x113 me=hex subme=7 psy=1 psy_rd=1.00:0.00 mixed_ref=1 me_range=16 chroma_me=1 trellis=1 8x8dct=1 cqm=0 deadzone=21,11 fast_pskip=1 chroma_qp_offset=-2 threads=3 lookahead_threads=1 sliced_threads=0 nr=0 decimate=1 interlaced=0 bluray_compat=0 constrained_intra=0 bframes=3 b_pyramid=2 b_adapt=1 b_bias=0 direct=1 weightb=1 open_gop=1 weightp=2 keyint=250 keyint_min=25 scenecut=40 intra_refresh=0 rc_lookahead=40 rc=crf mbtree=1 crf=23.0 qcomp=0.60 qpmin=0 qpmax=69 qpstep=4 ip_ratio=1.40 aq=1:1.00\n",
            "Output #0, mp4, to 'out.mp4':\n",
            "  Metadata:\n",
            "    encoder         : Lavf57.83.100\n",
            "    Stream #0:0: Video: h264 (libx264) (avc1 / 0x31637661), yuv420p(progressive), 1920x1080, q=-1--1, 30 fps, 15360 tbn, 30 tbc\n",
            "    Metadata:\n",
            "      encoder         : Lavc57.107.100 libx264\n",
            "    Side data:\n",
            "      cpb: bitrate max/min/avg: 0/0/0 buffer size: 0 vbv_delay: -1\n",
            "    Stream #0:1: Audio: aac (LC) (mp4a / 0x6134706D), 44100 Hz, stereo, fltp, 128 kb/s\n",
            "    Metadata:\n",
            "      encoder         : Lavc57.107.100 aac\n",
            "frame=  150 fps= 43 q=-1.0 Lsize=      69kB time=00:00:05.01 bitrate= 113.4kbits/s speed=1.45x    \n",
            "video:35kB audio:27kB subtitle:0kB other streams:0kB global headers:0kB muxing overhead: 10.589004%\n",
            "\u001b[1;36m[libx264 @ 0x562decdf2d00] \u001b[0mframe I:1     Avg QP:18.39  size: 10650\n",
            "\u001b[1;36m[libx264 @ 0x562decdf2d00] \u001b[0mframe P:38    Avg QP:14.04  size:   300\n",
            "\u001b[1;36m[libx264 @ 0x562decdf2d00] \u001b[0mframe B:111   Avg QP:17.17  size:   123\n",
            "\u001b[1;36m[libx264 @ 0x562decdf2d00] \u001b[0mconsecutive B-frames:  1.3%  0.0%  0.0% 98.7%\n",
            "\u001b[1;36m[libx264 @ 0x562decdf2d00] \u001b[0mmb I  I16..4: 14.6% 82.3%  3.2%\n",
            "\u001b[1;36m[libx264 @ 0x562decdf2d00] \u001b[0mmb P  I16..4:  0.0%  0.0%  0.1%  P16..4:  0.1%  0.1%  0.0%  0.0%  0.0%    skip:99.7%\n",
            "\u001b[1;36m[libx264 @ 0x562decdf2d00] \u001b[0mmb B  I16..4:  0.0%  0.0%  0.0%  B16..8:  0.3%  0.0%  0.0%  direct: 0.0%  skip:99.6%  L0:60.9% L1:38.9% BI: 0.1%\n",
            "\u001b[1;36m[libx264 @ 0x562decdf2d00] \u001b[0m8x8 transform intra:78.2% inter:16.5%\n",
            "\u001b[1;36m[libx264 @ 0x562decdf2d00] \u001b[0mcoded y,uvDC,uvAC intra: 5.9% 0.4% 0.3% inter: 0.0% 0.0% 0.0%\n",
            "\u001b[1;36m[libx264 @ 0x562decdf2d00] \u001b[0mi16 v,h,dc,p: 69% 22%  9%  0%\n",
            "\u001b[1;36m[libx264 @ 0x562decdf2d00] \u001b[0mi8 v,h,dc,ddl,ddr,vr,hd,vl,hu: 90%  3%  4%  1%  0%  0%  0%  0%  0%\n",
            "\u001b[1;36m[libx264 @ 0x562decdf2d00] \u001b[0mi4 v,h,dc,ddl,ddr,vr,hd,vl,hu: 41% 25% 17%  2%  4%  3%  3%  2%  3%\n",
            "\u001b[1;36m[libx264 @ 0x562decdf2d00] \u001b[0mi8c dc,h,v,p: 99%  0%  1%  0%\n",
            "\u001b[1;36m[libx264 @ 0x562decdf2d00] \u001b[0mWeighted P-Frames: Y:0.0% UV:0.0%\n",
            "\u001b[1;36m[libx264 @ 0x562decdf2d00] \u001b[0mref P L0: 74.8%  2.0% 18.3%  4.8%\n",
            "\u001b[1;36m[libx264 @ 0x562decdf2d00] \u001b[0mref B L0: 53.4% 45.0%  1.6%\n",
            "\u001b[1;36m[libx264 @ 0x562decdf2d00] \u001b[0mref B L1: 88.1% 11.9%\n",
            "\u001b[1;36m[libx264 @ 0x562decdf2d00] \u001b[0mkb/s:57.05\n",
            "\u001b[1;36m[aac @ 0x562ded128000] \u001b[0mQavg: 45784.246\n"
          ],
          "name": "stdout"
        }
      ]
    },
    {
      "cell_type": "code",
      "metadata": {
        "id": "t_QnxJxNK-Ed",
        "colab": {
          "base_uri": "https://localhost:8080/",
          "height": 17
        },
        "outputId": "51f7e3d5-71c9-47dc-a5b1-1957e0d8a078"
      },
      "source": [
        "#ファイルのダウンロード\n",
        "files.download('out.mp4')"
      ],
      "execution_count": null,
      "outputs": [
        {
          "output_type": "display_data",
          "data": {
            "application/javascript": [
              "\n",
              "    async function download(id, filename, size) {\n",
              "      if (!google.colab.kernel.accessAllowed) {\n",
              "        return;\n",
              "      }\n",
              "      const div = document.createElement('div');\n",
              "      const label = document.createElement('label');\n",
              "      label.textContent = `Downloading \"${filename}\": `;\n",
              "      div.appendChild(label);\n",
              "      const progress = document.createElement('progress');\n",
              "      progress.max = size;\n",
              "      div.appendChild(progress);\n",
              "      document.body.appendChild(div);\n",
              "\n",
              "      const buffers = [];\n",
              "      let downloaded = 0;\n",
              "\n",
              "      const channel = await google.colab.kernel.comms.open(id);\n",
              "      // Send a message to notify the kernel that we're ready.\n",
              "      channel.send({})\n",
              "\n",
              "      for await (const message of channel.messages) {\n",
              "        // Send a message to notify the kernel that we're ready.\n",
              "        channel.send({})\n",
              "        if (message.buffers) {\n",
              "          for (const buffer of message.buffers) {\n",
              "            buffers.push(buffer);\n",
              "            downloaded += buffer.byteLength;\n",
              "            progress.value = downloaded;\n",
              "          }\n",
              "        }\n",
              "      }\n",
              "      const blob = new Blob(buffers, {type: 'application/binary'});\n",
              "      const a = document.createElement('a');\n",
              "      a.href = window.URL.createObjectURL(blob);\n",
              "      a.download = filename;\n",
              "      div.appendChild(a);\n",
              "      a.click();\n",
              "      div.remove();\n",
              "    }\n",
              "  "
            ],
            "text/plain": [
              "<IPython.core.display.Javascript object>"
            ]
          },
          "metadata": {
            "tags": []
          }
        },
        {
          "output_type": "display_data",
          "data": {
            "application/javascript": [
              "download(\"download_8a2b66e9-ebf3-4f09-ad38-a407e2991706\", \"out.mp4\", 71122)"
            ],
            "text/plain": [
              "<IPython.core.display.Javascript object>"
            ]
          },
          "metadata": {
            "tags": []
          }
        }
      ]
    }
  ]
}